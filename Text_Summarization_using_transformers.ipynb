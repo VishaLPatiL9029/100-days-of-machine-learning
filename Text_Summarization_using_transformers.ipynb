{
  "metadata": {
    "kernelspec": {
      "language": "python",
      "display_name": "Python 3",
      "name": "python3"
    },
    "language_info": {
      "name": "python",
      "version": "3.10.13",
      "mimetype": "text/x-python",
      "codemirror_mode": {
        "name": "ipython",
        "version": 3
      },
      "pygments_lexer": "ipython3",
      "nbconvert_exporter": "python",
      "file_extension": ".py"
    },
    "kaggle": {
      "accelerator": "gpu",
      "dataSources": [
        {
          "sourceId": 32267,
          "sourceType": "datasetVersion",
          "datasetId": 24984
        }
      ],
      "isInternetEnabled": true,
      "language": "python",
      "sourceType": "notebook",
      "isGpuEnabled": true
    },
    "colab": {
      "name": "Text Summarization using transformers",
      "provenance": [],
      "include_colab_link": true
    }
  },
  "nbformat_minor": 0,
  "nbformat": 4,
  "cells": [
    {
      "cell_type": "markdown",
      "metadata": {
        "id": "view-in-github",
        "colab_type": "text"
      },
      "source": [
        "<a href=\"https://colab.research.google.com/github/VishaLPatiL9029/100-days-of-machine-learning/blob/main/Text_Summarization_using_transformers.ipynb\" target=\"_parent\"><img src=\"https://colab.research.google.com/assets/colab-badge.svg\" alt=\"Open In Colab\"/></a>"
      ]
    },
    {
      "source": [
        "\n",
        "# IMPORTANT: RUN THIS CELL IN ORDER TO IMPORT YOUR KAGGLE DATA SOURCES\n",
        "# TO THE CORRECT LOCATION (/kaggle/input) IN YOUR NOTEBOOK,\n",
        "# THEN FEEL FREE TO DELETE THIS CELL.\n",
        "# NOTE: THIS NOTEBOOK ENVIRONMENT DIFFERS FROM KAGGLE'S PYTHON\n",
        "# ENVIRONMENT SO THERE MAY BE MISSING LIBRARIES USED BY YOUR\n",
        "# NOTEBOOK.\n",
        "\n",
        "import os\n",
        "import sys\n",
        "from tempfile import NamedTemporaryFile\n",
        "from urllib.request import urlopen\n",
        "from urllib.parse import unquote, urlparse\n",
        "from urllib.error import HTTPError\n",
        "from zipfile import ZipFile\n",
        "import tarfile\n",
        "import shutil\n",
        "\n",
        "CHUNK_SIZE = 40960\n",
        "DATA_SOURCE_MAPPING = 'bbc-news-summary:https%3A%2F%2Fstorage.googleapis.com%2Fkaggle-data-sets%2F24984%2F32267%2Fbundle%2Farchive.zip%3FX-Goog-Algorithm%3DGOOG4-RSA-SHA256%26X-Goog-Credential%3Dgcp-kaggle-com%2540kaggle-161607.iam.gserviceaccount.com%252F20240203%252Fauto%252Fstorage%252Fgoog4_request%26X-Goog-Date%3D20240203T095107Z%26X-Goog-Expires%3D259200%26X-Goog-SignedHeaders%3Dhost%26X-Goog-Signature%3D07fdeaf9e171a21f335f272843af8890908de55d94d9e3dcaa723b298ca4ed03fb43669a65136104fa5e19b6cef86215e2184d61d1fa815b93cbd59728bf595fd0fff2cafc387415d268b346db859b5f4553818ad241f97f98f3e79dcdd3de39b5459c99850ae0457a7725becbd26eb23fd156ad76a9ac95168effb48dd310a655958ead07830f9e305583a206d55db1faa4e2e7e153455ee07ad758c7c544aea17eb2a7bc86233b0d680abc698275717245fe72fe247c96fefd6c319ae9cbfc888d9b9ed9b29fc149eec08f706b326e6c611a02264850c6d7e638fc8ff922c971e6e6c2f033fc257328b98a29e7278a9e72ac845602689951adec0a8f119251'\n",
        "\n",
        "KAGGLE_INPUT_PATH='/kaggle/input'\n",
        "KAGGLE_WORKING_PATH='/kaggle/working'\n",
        "KAGGLE_SYMLINK='kaggle'\n",
        "\n",
        "!umount /kaggle/input/ 2> /dev/null\n",
        "shutil.rmtree('/kaggle/input', ignore_errors=True)\n",
        "os.makedirs(KAGGLE_INPUT_PATH, 0o777, exist_ok=True)\n",
        "os.makedirs(KAGGLE_WORKING_PATH, 0o777, exist_ok=True)\n",
        "\n",
        "try:\n",
        "  os.symlink(KAGGLE_INPUT_PATH, os.path.join(\"..\", 'input'), target_is_directory=True)\n",
        "except FileExistsError:\n",
        "  pass\n",
        "try:\n",
        "  os.symlink(KAGGLE_WORKING_PATH, os.path.join(\"..\", 'working'), target_is_directory=True)\n",
        "except FileExistsError:\n",
        "  pass\n",
        "\n",
        "for data_source_mapping in DATA_SOURCE_MAPPING.split(','):\n",
        "    directory, download_url_encoded = data_source_mapping.split(':')\n",
        "    download_url = unquote(download_url_encoded)\n",
        "    filename = urlparse(download_url).path\n",
        "    destination_path = os.path.join(KAGGLE_INPUT_PATH, directory)\n",
        "    try:\n",
        "        with urlopen(download_url) as fileres, NamedTemporaryFile() as tfile:\n",
        "            total_length = fileres.headers['content-length']\n",
        "            print(f'Downloading {directory}, {total_length} bytes compressed')\n",
        "            dl = 0\n",
        "            data = fileres.read(CHUNK_SIZE)\n",
        "            while len(data) > 0:\n",
        "                dl += len(data)\n",
        "                tfile.write(data)\n",
        "                done = int(50 * dl / int(total_length))\n",
        "                sys.stdout.write(f\"\\r[{'=' * done}{' ' * (50-done)}] {dl} bytes downloaded\")\n",
        "                sys.stdout.flush()\n",
        "                data = fileres.read(CHUNK_SIZE)\n",
        "            if filename.endswith('.zip'):\n",
        "              with ZipFile(tfile) as zfile:\n",
        "                zfile.extractall(destination_path)\n",
        "            else:\n",
        "              with tarfile.open(tfile.name) as tarfile:\n",
        "                tarfile.extractall(destination_path)\n",
        "            print(f'\\nDownloaded and uncompressed: {directory}')\n",
        "    except HTTPError as e:\n",
        "        print(f'Failed to load (likely expired) {download_url} to path {destination_path}')\n",
        "        continue\n",
        "    except OSError as e:\n",
        "        print(f'Failed to load {download_url} to path {destination_path}')\n",
        "        continue\n",
        "\n",
        "print('Data source import complete.')\n"
      ],
      "metadata": {
        "id": "dD188lq3YRPZ"
      },
      "cell_type": "code",
      "outputs": [],
      "execution_count": null
    },
    {
      "cell_type": "code",
      "source": [
        "import numpy as np\n",
        "import pandas as pd\n",
        "import os\n",
        "import time\n",
        "import glob\n",
        "import pathlib\n",
        "import matplotlib.pyplot as plt\n",
        "import seaborn as sns"
      ],
      "metadata": {
        "execution": {
          "iopub.status.busy": "2024-02-03T09:38:26.747049Z",
          "iopub.execute_input": "2024-02-03T09:38:26.747336Z",
          "iopub.status.idle": "2024-02-03T09:38:27.572841Z",
          "shell.execute_reply.started": "2024-02-03T09:38:26.74731Z",
          "shell.execute_reply": "2024-02-03T09:38:27.572057Z"
        },
        "trusted": true,
        "id": "kW5ESAI3YRPr"
      },
      "execution_count": null,
      "outputs": []
    },
    {
      "cell_type": "code",
      "source": [
        "os.listdir('/kaggle/input/bbc-news-summary/BBC News Summary/Summaries')"
      ],
      "metadata": {
        "execution": {
          "iopub.status.busy": "2024-02-03T09:38:27.577759Z",
          "iopub.execute_input": "2024-02-03T09:38:27.578102Z",
          "iopub.status.idle": "2024-02-03T09:38:27.60491Z",
          "shell.execute_reply.started": "2024-02-03T09:38:27.578074Z",
          "shell.execute_reply": "2024-02-03T09:38:27.604032Z"
        },
        "trusted": true,
        "id": "g-6zNrDRYRPs"
      },
      "execution_count": null,
      "outputs": []
    },
    {
      "cell_type": "code",
      "source": [
        "articles_path = '../input/bbc-news-summary/BBC News Summary/News Articles'\n",
        "summaries_path = '../input/bbc-news-summary/BBC News Summary/Summaries'\n",
        "categories_list = ['politics', 'sport', 'tech', 'entertainment', 'business']"
      ],
      "metadata": {
        "execution": {
          "iopub.status.busy": "2024-02-03T09:38:27.606078Z",
          "iopub.execute_input": "2024-02-03T09:38:27.606357Z",
          "iopub.status.idle": "2024-02-03T09:38:27.610987Z",
          "shell.execute_reply.started": "2024-02-03T09:38:27.606333Z",
          "shell.execute_reply": "2024-02-03T09:38:27.609993Z"
        },
        "trusted": true,
        "id": "05F0LO4SYRPs"
      },
      "execution_count": null,
      "outputs": []
    },
    {
      "cell_type": "code",
      "source": [
        "def read_files_from_folders(articles_path, summaries_path, categories_list=['tech', 'sport'], encoding = \"ISO-8859-1\"):\n",
        "    articles = []\n",
        "    summaries = []\n",
        "    categories = []\n",
        "    for category in categories_list:\n",
        "        article_paths = glob.glob(os.path.join(articles_path, category, '*.txt'), recursive=True)\n",
        "        summary_paths = glob.glob(os.path.join(summaries_path, category, '*.txt'), recursive=True)\n",
        "\n",
        "        if len(article_paths) != len(summary_paths):\n",
        "            print('number of files is not equal')\n",
        "            return\n",
        "        for i in range(len(article_paths)):\n",
        "            categories.append(category)\n",
        "            with open(article_paths[i], mode='r', encoding = encoding) as file:\n",
        "                articles.append(file.read())\n",
        "\n",
        "            with open(summary_paths[i], mode='r', encoding = encoding) as file:\n",
        "                summaries.append(file.read())\n",
        "    return articles, summaries, categories"
      ],
      "metadata": {
        "execution": {
          "iopub.status.busy": "2024-02-03T09:38:27.613586Z",
          "iopub.execute_input": "2024-02-03T09:38:27.613852Z",
          "iopub.status.idle": "2024-02-03T09:38:27.623075Z",
          "shell.execute_reply.started": "2024-02-03T09:38:27.61383Z",
          "shell.execute_reply": "2024-02-03T09:38:27.622261Z"
        },
        "trusted": true,
        "id": "nPQ1njq7YRPt"
      },
      "execution_count": null,
      "outputs": []
    },
    {
      "cell_type": "code",
      "source": [
        "articles, summaries, categories = read_files_from_folders(articles_path, summaries_path, categories_list)"
      ],
      "metadata": {
        "execution": {
          "iopub.status.busy": "2024-02-03T09:38:27.623983Z",
          "iopub.execute_input": "2024-02-03T09:38:27.624252Z",
          "iopub.status.idle": "2024-02-03T09:38:30.216587Z",
          "shell.execute_reply.started": "2024-02-03T09:38:27.62423Z",
          "shell.execute_reply": "2024-02-03T09:38:30.215714Z"
        },
        "trusted": true,
        "id": "nq_G2B4hYRPu"
      },
      "execution_count": null,
      "outputs": []
    },
    {
      "cell_type": "code",
      "source": [
        "df = pd.DataFrame({'articles':articles, 'summaries':summaries, 'categories':categories})"
      ],
      "metadata": {
        "execution": {
          "iopub.status.busy": "2024-02-03T09:38:30.217656Z",
          "iopub.execute_input": "2024-02-03T09:38:30.217931Z",
          "iopub.status.idle": "2024-02-03T09:38:30.224176Z",
          "shell.execute_reply.started": "2024-02-03T09:38:30.217907Z",
          "shell.execute_reply": "2024-02-03T09:38:30.223374Z"
        },
        "trusted": true,
        "id": "Tm8itt58YRPv"
      },
      "execution_count": null,
      "outputs": []
    },
    {
      "cell_type": "code",
      "source": [
        "df"
      ],
      "metadata": {
        "execution": {
          "iopub.status.busy": "2024-02-03T09:38:30.225179Z",
          "iopub.execute_input": "2024-02-03T09:38:30.225464Z",
          "iopub.status.idle": "2024-02-03T09:38:30.244717Z",
          "shell.execute_reply.started": "2024-02-03T09:38:30.225441Z",
          "shell.execute_reply": "2024-02-03T09:38:30.243866Z"
        },
        "trusted": true,
        "id": "qkzoRDBDYRP3"
      },
      "execution_count": null,
      "outputs": []
    },
    {
      "cell_type": "code",
      "source": [
        "category_sizes = df.groupby('categories').size()\n",
        "sns.barplot(x=category_sizes.index, y=category_sizes)\n",
        "plt.show()"
      ],
      "metadata": {
        "execution": {
          "iopub.status.busy": "2024-02-03T09:38:30.245913Z",
          "iopub.execute_input": "2024-02-03T09:38:30.246347Z",
          "iopub.status.idle": "2024-02-03T09:38:30.476953Z",
          "shell.execute_reply.started": "2024-02-03T09:38:30.246316Z",
          "shell.execute_reply": "2024-02-03T09:38:30.476036Z"
        },
        "trusted": true,
        "id": "3T6lST4kYRP5"
      },
      "execution_count": null,
      "outputs": []
    },
    {
      "cell_type": "code",
      "source": [
        "#getting the length of each article and summary for analysis\n",
        "df['articles_length'] = df['articles'].apply(lambda x: len(x.split()))\n",
        "df['summaries_length'] = df['summaries'].apply(lambda x: len(x.split()))"
      ],
      "metadata": {
        "execution": {
          "iopub.status.busy": "2024-02-03T09:38:30.4782Z",
          "iopub.execute_input": "2024-02-03T09:38:30.478488Z",
          "iopub.status.idle": "2024-02-03T09:38:30.568788Z",
          "shell.execute_reply.started": "2024-02-03T09:38:30.478463Z",
          "shell.execute_reply": "2024-02-03T09:38:30.568031Z"
        },
        "trusted": true,
        "id": "WP6opJAIYRP6"
      },
      "execution_count": null,
      "outputs": []
    },
    {
      "cell_type": "code",
      "source": [
        "df"
      ],
      "metadata": {
        "execution": {
          "iopub.status.busy": "2024-02-03T09:38:30.570063Z",
          "iopub.execute_input": "2024-02-03T09:38:30.570677Z",
          "iopub.status.idle": "2024-02-03T09:38:30.583316Z",
          "shell.execute_reply.started": "2024-02-03T09:38:30.570643Z",
          "shell.execute_reply": "2024-02-03T09:38:30.582336Z"
        },
        "trusted": true,
        "id": "D-WgHCJfYRP6"
      },
      "execution_count": null,
      "outputs": []
    },
    {
      "cell_type": "code",
      "source": [
        "category_length = df.groupby('categories',0).agg({'articles_length': 'mean', 'summaries_length': 'mean'})\n"
      ],
      "metadata": {
        "execution": {
          "iopub.status.busy": "2024-02-03T09:38:30.58444Z",
          "iopub.execute_input": "2024-02-03T09:38:30.584694Z",
          "iopub.status.idle": "2024-02-03T09:38:30.596917Z",
          "shell.execute_reply.started": "2024-02-03T09:38:30.584672Z",
          "shell.execute_reply": "2024-02-03T09:38:30.596017Z"
        },
        "trusted": true,
        "id": "fTTO-0p3YRP7"
      },
      "execution_count": null,
      "outputs": []
    },
    {
      "cell_type": "code",
      "source": [
        "category_length"
      ],
      "metadata": {
        "execution": {
          "iopub.status.busy": "2024-02-03T09:38:30.598354Z",
          "iopub.execute_input": "2024-02-03T09:38:30.598765Z",
          "iopub.status.idle": "2024-02-03T09:38:30.610984Z",
          "shell.execute_reply.started": "2024-02-03T09:38:30.598733Z",
          "shell.execute_reply": "2024-02-03T09:38:30.609954Z"
        },
        "trusted": true,
        "id": "e1GN6zesYRP7"
      },
      "execution_count": null,
      "outputs": []
    },
    {
      "cell_type": "code",
      "source": [
        "df_m = pd.melt(category_length, ignore_index=False)\n",
        "plt.figure(figsize=(8,6))\n",
        "sns.barplot(x=df_m.index, y=\"value\", hue='variable', data=df_m)\n",
        "plt.show()"
      ],
      "metadata": {
        "execution": {
          "iopub.status.busy": "2024-02-03T09:38:30.616404Z",
          "iopub.execute_input": "2024-02-03T09:38:30.616935Z",
          "iopub.status.idle": "2024-02-03T09:38:30.839264Z",
          "shell.execute_reply.started": "2024-02-03T09:38:30.616909Z",
          "shell.execute_reply": "2024-02-03T09:38:30.838346Z"
        },
        "trusted": true,
        "id": "7QBgr8GBYRP7"
      },
      "execution_count": null,
      "outputs": []
    },
    {
      "cell_type": "code",
      "source": [
        "df_m"
      ],
      "metadata": {
        "execution": {
          "iopub.status.busy": "2024-02-03T09:38:30.840627Z",
          "iopub.execute_input": "2024-02-03T09:38:30.840907Z",
          "iopub.status.idle": "2024-02-03T09:38:30.850773Z",
          "shell.execute_reply.started": "2024-02-03T09:38:30.840882Z",
          "shell.execute_reply": "2024-02-03T09:38:30.849817Z"
        },
        "trusted": true,
        "id": "jUtSsxShYRP8"
      },
      "execution_count": null,
      "outputs": []
    },
    {
      "cell_type": "code",
      "source": [
        "category_length"
      ],
      "metadata": {
        "execution": {
          "iopub.status.busy": "2024-02-03T09:38:30.851867Z",
          "iopub.execute_input": "2024-02-03T09:38:30.85219Z",
          "iopub.status.idle": "2024-02-03T09:38:30.865542Z",
          "shell.execute_reply.started": "2024-02-03T09:38:30.852154Z",
          "shell.execute_reply": "2024-02-03T09:38:30.864497Z"
        },
        "trusted": true,
        "id": "bZPLdw46YRP8"
      },
      "execution_count": null,
      "outputs": []
    },
    {
      "cell_type": "code",
      "source": [
        "pd.melt(category_length, ignore_index = False).groupby('variable').mean()"
      ],
      "metadata": {
        "execution": {
          "iopub.status.busy": "2024-02-03T09:38:30.866767Z",
          "iopub.execute_input": "2024-02-03T09:38:30.86721Z",
          "iopub.status.idle": "2024-02-03T09:38:30.882036Z",
          "shell.execute_reply.started": "2024-02-03T09:38:30.867179Z",
          "shell.execute_reply": "2024-02-03T09:38:30.881056Z"
        },
        "trusted": true,
        "id": "hJ9Ons9zYRP8"
      },
      "execution_count": null,
      "outputs": []
    },
    {
      "cell_type": "code",
      "source": [
        "!nvidia-smi"
      ],
      "metadata": {
        "execution": {
          "iopub.status.busy": "2024-02-03T09:38:30.883457Z",
          "iopub.execute_input": "2024-02-03T09:38:30.883842Z",
          "iopub.status.idle": "2024-02-03T09:38:31.878299Z",
          "shell.execute_reply.started": "2024-02-03T09:38:30.883811Z",
          "shell.execute_reply": "2024-02-03T09:38:31.87715Z"
        },
        "trusted": true,
        "id": "wKKXmvInYRP8"
      },
      "execution_count": null,
      "outputs": []
    },
    {
      "cell_type": "code",
      "source": [
        "# !pip install --upgrade pytorch_lightning\n",
        "# !pip install --upgrade torchtext\n"
      ],
      "metadata": {
        "execution": {
          "iopub.status.busy": "2024-02-03T09:38:31.879811Z",
          "iopub.execute_input": "2024-02-03T09:38:31.880157Z",
          "iopub.status.idle": "2024-02-03T09:38:31.884694Z",
          "shell.execute_reply.started": "2024-02-03T09:38:31.880125Z",
          "shell.execute_reply": "2024-02-03T09:38:31.883655Z"
        },
        "trusted": true,
        "id": "QunUobFNYRP9"
      },
      "execution_count": null,
      "outputs": []
    },
    {
      "cell_type": "code",
      "source": [
        "# !pip install --quiet transformers\n",
        "# !pip install --quiet pytorch-lightning\n",
        "#!pip install --upgrade torchvision\n",
        "#!pip install --upgrade torch\n",
        "#!pip install --upgrade torchaudio\n",
        "\n"
      ],
      "metadata": {
        "execution": {
          "iopub.status.busy": "2024-02-03T09:38:31.885836Z",
          "iopub.execute_input": "2024-02-03T09:38:31.886152Z",
          "iopub.status.idle": "2024-02-03T09:38:56.485409Z",
          "shell.execute_reply.started": "2024-02-03T09:38:31.886129Z",
          "shell.execute_reply": "2024-02-03T09:38:56.484215Z"
        },
        "trusted": true,
        "id": "IYAf9bpZYRP9"
      },
      "execution_count": null,
      "outputs": []
    },
    {
      "cell_type": "code",
      "source": [
        "#!pip install torchaudio\n"
      ],
      "metadata": {
        "execution": {
          "iopub.status.busy": "2024-02-03T09:38:56.486849Z",
          "iopub.execute_input": "2024-02-03T09:38:56.487155Z",
          "iopub.status.idle": "2024-02-03T09:39:08.802463Z",
          "shell.execute_reply.started": "2024-02-03T09:38:56.487126Z",
          "shell.execute_reply": "2024-02-03T09:39:08.801262Z"
        },
        "trusted": true,
        "id": "-dDlqXacYRP9"
      },
      "execution_count": null,
      "outputs": []
    },
    {
      "cell_type": "code",
      "source": [
        "import plotly.express as px\n",
        "\n",
        "tmp_df = pd.DataFrame({'category': df['categories'].value_counts().index, 'files_count': df['categories'].value_counts().values})\n",
        "fig = px.pie(tmp_df, values='files_count', names='category', title=f\"Categories Ratio\")\n",
        "fig.show()\n"
      ],
      "metadata": {
        "execution": {
          "iopub.status.busy": "2024-02-03T09:39:08.804253Z",
          "iopub.execute_input": "2024-02-03T09:39:08.805247Z",
          "iopub.status.idle": "2024-02-03T09:39:09.688327Z",
          "shell.execute_reply.started": "2024-02-03T09:39:08.805192Z",
          "shell.execute_reply": "2024-02-03T09:39:09.687458Z"
        },
        "trusted": true,
        "id": "hc0f4BsyYRP9"
      },
      "execution_count": null,
      "outputs": []
    },
    {
      "cell_type": "code",
      "source": [
        "import json\n",
        "import torch\n",
        "import pandas as pd\n",
        "import numpy as np\n",
        "from pathlib import Path\n",
        "from torch.utils.data import Dataset, DataLoader\n",
        "import pytorch_lightning as pl\n",
        "from pytorch_lightning.callbacks import ModelCheckpoint\n",
        "from pytorch_lightning.loggers import TensorBoardLogger\n",
        "from sklearn.model_selection import train_test_split\n",
        "from termcolor import colored\n",
        "import textwrap\n",
        "from torchtext import data\n",
        "\n",
        "\n",
        "from transformers import (\n",
        "    AdamW,\n",
        "    T5ForConditionalGeneration,\n",
        "    AutoTokenizer,\n",
        "    T5TokenizerFast as T5Tokenizer\n",
        ")\n",
        "\n",
        "from tqdm.auto import tqdm\n",
        "from pylab import rcParams\n",
        "from matplotlib import rc\n",
        "\n",
        "%matplotlib inline\n",
        "%config InlineBackend.figure_format='retina'"
      ],
      "metadata": {
        "execution": {
          "iopub.status.busy": "2024-02-03T09:39:09.689728Z",
          "iopub.execute_input": "2024-02-03T09:39:09.690113Z",
          "iopub.status.idle": "2024-02-03T09:39:15.925317Z",
          "shell.execute_reply.started": "2024-02-03T09:39:09.69008Z",
          "shell.execute_reply": "2024-02-03T09:39:15.924472Z"
        },
        "trusted": true,
        "id": "fmmZO5YKYRP-"
      },
      "execution_count": null,
      "outputs": []
    },
    {
      "cell_type": "code",
      "source": [
        "import seaborn as sns\n",
        "import matplotlib.pyplot as plt\n",
        "\n",
        "%matplotlib inline\n",
        "%config InlineBackend.figure_format = 'retina'\n",
        "sns.set(style='whitegrid', palette='muted', font_scale = 1.2)\n",
        "rcParams['figure.figsize']=16,10"
      ],
      "metadata": {
        "execution": {
          "iopub.status.busy": "2024-02-03T09:39:15.92634Z",
          "iopub.execute_input": "2024-02-03T09:39:15.926875Z",
          "iopub.status.idle": "2024-02-03T09:39:15.940263Z",
          "shell.execute_reply.started": "2024-02-03T09:39:15.926846Z",
          "shell.execute_reply": "2024-02-03T09:39:15.939473Z"
        },
        "trusted": true,
        "id": "KMNMH2GhYRP-"
      },
      "execution_count": null,
      "outputs": []
    },
    {
      "cell_type": "code",
      "source": [
        "df"
      ],
      "metadata": {
        "execution": {
          "iopub.status.busy": "2024-02-03T09:39:15.941499Z",
          "iopub.execute_input": "2024-02-03T09:39:15.941848Z",
          "iopub.status.idle": "2024-02-03T09:39:15.963955Z",
          "shell.execute_reply.started": "2024-02-03T09:39:15.941817Z",
          "shell.execute_reply": "2024-02-03T09:39:15.962998Z"
        },
        "trusted": true,
        "id": "ABGPUmYCYRP_"
      },
      "execution_count": null,
      "outputs": []
    },
    {
      "cell_type": "code",
      "source": [
        "df = df[['articles', 'summaries']]\n",
        "\n"
      ],
      "metadata": {
        "execution": {
          "iopub.status.busy": "2024-02-03T09:39:15.965201Z",
          "iopub.execute_input": "2024-02-03T09:39:15.965795Z",
          "iopub.status.idle": "2024-02-03T09:39:15.975304Z",
          "shell.execute_reply.started": "2024-02-03T09:39:15.965762Z",
          "shell.execute_reply": "2024-02-03T09:39:15.974511Z"
        },
        "trusted": true,
        "id": "P94y__1gYRP_"
      },
      "execution_count": null,
      "outputs": []
    },
    {
      "cell_type": "code",
      "source": [
        "df['articles'] = df['articles'].str.encode('ascii', 'ignore').str.decode('ascii')\n",
        "df['summaries'] = df['summaries'].str.encode('ascii', 'ignore').str.decode('ascii')"
      ],
      "metadata": {
        "execution": {
          "iopub.status.busy": "2024-02-03T09:39:15.976463Z",
          "iopub.execute_input": "2024-02-03T09:39:15.976985Z",
          "iopub.status.idle": "2024-02-03T09:39:16.006806Z",
          "shell.execute_reply.started": "2024-02-03T09:39:15.97695Z",
          "shell.execute_reply": "2024-02-03T09:39:16.005611Z"
        },
        "trusted": true,
        "id": "I8ExgBTNYRP_"
      },
      "execution_count": null,
      "outputs": []
    },
    {
      "cell_type": "code",
      "source": [
        "df = df.dropna()\n"
      ],
      "metadata": {
        "execution": {
          "iopub.status.busy": "2024-02-03T09:39:16.008247Z",
          "iopub.execute_input": "2024-02-03T09:39:16.008581Z",
          "iopub.status.idle": "2024-02-03T09:39:16.014898Z",
          "shell.execute_reply.started": "2024-02-03T09:39:16.00855Z",
          "shell.execute_reply": "2024-02-03T09:39:16.013941Z"
        },
        "trusted": true,
        "id": "QDIJP2rCYRP_"
      },
      "execution_count": null,
      "outputs": []
    },
    {
      "cell_type": "code",
      "source": [
        " train_df, test_df = train_test_split(df, test_size=0.1)"
      ],
      "metadata": {
        "execution": {
          "iopub.status.busy": "2024-02-03T09:39:16.01609Z",
          "iopub.execute_input": "2024-02-03T09:39:16.016368Z",
          "iopub.status.idle": "2024-02-03T09:39:16.024575Z",
          "shell.execute_reply.started": "2024-02-03T09:39:16.01634Z",
          "shell.execute_reply": "2024-02-03T09:39:16.023655Z"
        },
        "trusted": true,
        "id": "0QmCw797YRQA"
      },
      "execution_count": null,
      "outputs": []
    },
    {
      "cell_type": "code",
      "source": [
        "test_df"
      ],
      "metadata": {
        "execution": {
          "iopub.status.busy": "2024-02-03T09:39:16.02575Z",
          "iopub.execute_input": "2024-02-03T09:39:16.026044Z",
          "iopub.status.idle": "2024-02-03T09:39:16.039708Z",
          "shell.execute_reply.started": "2024-02-03T09:39:16.025997Z",
          "shell.execute_reply": "2024-02-03T09:39:16.03881Z"
        },
        "trusted": true,
        "id": "kM8TpygWYRQA"
      },
      "execution_count": null,
      "outputs": []
    },
    {
      "cell_type": "code",
      "source": [
        "train_df"
      ],
      "metadata": {
        "execution": {
          "iopub.status.busy": "2024-02-03T09:39:16.040971Z",
          "iopub.execute_input": "2024-02-03T09:39:16.041278Z",
          "iopub.status.idle": "2024-02-03T09:39:16.053959Z",
          "shell.execute_reply.started": "2024-02-03T09:39:16.041254Z",
          "shell.execute_reply": "2024-02-03T09:39:16.053093Z"
        },
        "trusted": true,
        "id": "CQhOdOXNYRQF"
      },
      "execution_count": null,
      "outputs": []
    },
    {
      "cell_type": "code",
      "source": [
        "class NewsSummaryDataset(Dataset):\n",
        "    def __init__(\n",
        "        self,\n",
        "        data: pd.DataFrame,\n",
        "        tokenizer: T5Tokenizer,\n",
        "        text_max_token_len: int = 512,\n",
        "        summary_max_token_len: int = 128\n",
        "    ):\n",
        "        self.tokenizer = tokenizer\n",
        "        self.data = data\n",
        "        self.text_max_token_len = text_max_token_len\n",
        "        self.summary_max_token_len = summary_max_token_len\n",
        "\n",
        "    def __len__(self):\n",
        "        return len(self.data)\n",
        "\n",
        "    def __getitem__(self, index:int):\n",
        "        data_row = self.data.iloc[index]\n",
        "        text = data_row['articles']\n",
        "        text_encoding = tokenizer(\n",
        "            text,\n",
        "            max_length = self.text_max_token_len,\n",
        "            padding = 'max_length',\n",
        "            truncation = True,\n",
        "            return_attention_mask = True,\n",
        "            add_special_tokens = True,\n",
        "            return_tensors = 'pt'\n",
        "        )\n",
        "        summary_encoding = tokenizer(\n",
        "            data_row['summaries'],\n",
        "            max_length = self.summary_max_token_len,\n",
        "            padding = 'max_length',\n",
        "            truncation = True,\n",
        "            return_attention_mask = True,\n",
        "            add_special_tokens = True,\n",
        "            return_tensors = 'pt'\n",
        "        )\n",
        "\n",
        "        labels = summary_encoding['input_ids']\n",
        "        labels[labels == 0] = -100\n",
        "\n",
        "        return dict(\n",
        "            text = text,\n",
        "            summary = data_row['summaries'],\n",
        "            text_input_ids = text_encoding['input_ids'].flatten(),\n",
        "            text_attention_mask = text_encoding['attention_mask'].flatten(),\n",
        "            labels = labels.flatten(),\n",
        "            labels_attention_mask = summary_encoding['attention_mask'].flatten()\n",
        "        )"
      ],
      "metadata": {
        "execution": {
          "iopub.status.busy": "2024-02-03T09:39:16.05504Z",
          "iopub.execute_input": "2024-02-03T09:39:16.055313Z",
          "iopub.status.idle": "2024-02-03T09:39:16.066088Z",
          "shell.execute_reply.started": "2024-02-03T09:39:16.05529Z",
          "shell.execute_reply": "2024-02-03T09:39:16.065109Z"
        },
        "trusted": true,
        "id": "8ja9ZlBMYRQG"
      },
      "execution_count": null,
      "outputs": []
    },
    {
      "cell_type": "code",
      "source": [
        "class NewsSummaryDataModule(pl.LightningDataModule):\n",
        "    def __init__(\n",
        "        self,\n",
        "        train_df: pd.DataFrame,\n",
        "        test_df: pd.DataFrame,\n",
        "        tokenizer: T5Tokenizer,\n",
        "        batch_size: int = 8,\n",
        "        text_max_token_len: int = 512,\n",
        "        summary_max_token_len: int = 128\n",
        "    ):\n",
        "        super().__init__()\n",
        "        self.tokenizer = tokenizer\n",
        "        self.train_df = train_df\n",
        "        self.test_df = test_df\n",
        "        self.batch_size = batch_size\n",
        "        self.text_max_token_len = text_max_token_len\n",
        "        self.summary_max_token_len = summary_max_token_len\n",
        "\n",
        "    def setup(self, stage=None):\n",
        "        self.train_dataset = NewsSummaryDataset(\n",
        "            self.train_df,\n",
        "            self.tokenizer,\n",
        "            self.text_max_token_len,\n",
        "            self.summary_max_token_len\n",
        "        )\n",
        "        self.test_dataset = NewsSummaryDataset(\n",
        "            self.test_df,\n",
        "            self.tokenizer,\n",
        "            self.text_max_token_len,\n",
        "            self.summary_max_token_len\n",
        "        )\n",
        "\n",
        "    def train_dataloader(self):\n",
        "        return DataLoader(\n",
        "            self.train_dataset,\n",
        "            batch_size = self.batch_size,\n",
        "            shuffle = True,\n",
        "            num_workers = 4\n",
        "        )\n",
        "\n",
        "    def val_dataloader(self):\n",
        "        return DataLoader(\n",
        "            self.test_dataset,\n",
        "            batch_size = self.batch_size,\n",
        "            shuffle = True,\n",
        "            num_workers = 4\n",
        "        )"
      ],
      "metadata": {
        "execution": {
          "iopub.status.busy": "2024-02-03T09:39:16.067389Z",
          "iopub.execute_input": "2024-02-03T09:39:16.067743Z",
          "iopub.status.idle": "2024-02-03T09:39:16.079398Z",
          "shell.execute_reply.started": "2024-02-03T09:39:16.067712Z",
          "shell.execute_reply": "2024-02-03T09:39:16.078562Z"
        },
        "trusted": true,
        "id": "b0LepjyMYRQH"
      },
      "execution_count": null,
      "outputs": []
    },
    {
      "cell_type": "code",
      "source": [
        "MODEL_NAME = \"t5-base\"\n",
        "tokenizer = T5Tokenizer.from_pretrained(MODEL_NAME)\n",
        "text_token_counts, summary_token_counts = [], []\n",
        "\n",
        "for _, row in train_df.iterrows():\n",
        "    text_token_count = len(tokenizer.encode(row['articles']))\n",
        "    text_token_counts.append(text_token_count)\n",
        "\n",
        "    summary_token_count = len(tokenizer.encode(row['summaries']))\n",
        "    summary_token_counts.append(summary_token_count)"
      ],
      "metadata": {
        "execution": {
          "iopub.status.busy": "2024-02-03T09:39:16.080523Z",
          "iopub.execute_input": "2024-02-03T09:39:16.080791Z",
          "iopub.status.idle": "2024-02-03T09:39:22.195128Z",
          "shell.execute_reply.started": "2024-02-03T09:39:16.080768Z",
          "shell.execute_reply": "2024-02-03T09:39:22.194062Z"
        },
        "trusted": true,
        "id": "oiLD1V8WYRQH"
      },
      "execution_count": null,
      "outputs": []
    },
    {
      "cell_type": "code",
      "source": [
        "fig, (ax1, ax2) = plt.subplots(1,2)\n",
        "sns.histplot(text_token_counts, ax = ax1)\n",
        "ax1.set_title('full text token counts')\n",
        "sns.histplot(summary_token_counts, ax = ax2)"
      ],
      "metadata": {
        "execution": {
          "iopub.status.busy": "2024-02-03T09:39:22.196451Z",
          "iopub.execute_input": "2024-02-03T09:39:22.196768Z",
          "iopub.status.idle": "2024-02-03T09:39:23.491961Z",
          "shell.execute_reply.started": "2024-02-03T09:39:22.19674Z",
          "shell.execute_reply": "2024-02-03T09:39:23.490981Z"
        },
        "trusted": true,
        "id": "AetnsbQmYRQI"
      },
      "execution_count": null,
      "outputs": []
    },
    {
      "cell_type": "code",
      "source": [
        "N_EPOCHS = 3\n",
        "BATCH_SIZE = 8\n",
        "\n",
        "data_module = NewsSummaryDataModule(train_df, test_df, tokenizer)"
      ],
      "metadata": {
        "execution": {
          "iopub.status.busy": "2024-02-03T09:39:23.493251Z",
          "iopub.execute_input": "2024-02-03T09:39:23.493547Z",
          "iopub.status.idle": "2024-02-03T09:39:23.498119Z",
          "shell.execute_reply.started": "2024-02-03T09:39:23.493521Z",
          "shell.execute_reply": "2024-02-03T09:39:23.497162Z"
        },
        "trusted": true,
        "id": "TBzDVYcwYRQI"
      },
      "execution_count": null,
      "outputs": []
    },
    {
      "cell_type": "code",
      "source": [
        "class NewsSummaryModel(pl.LightningModule):\n",
        "    def __init__(self):\n",
        "        super().__init__()\n",
        "        self.model = T5ForConditionalGeneration.from_pretrained(MODEL_NAME, return_dict=True)\n",
        "\n",
        "    def forward(self, input_ids, attention_mask, decoder_attention_mask, labels=None):\n",
        "        output = self.model(\n",
        "            input_ids,\n",
        "            attention_mask = attention_mask,\n",
        "            labels = labels,\n",
        "            decoder_attention_mask = decoder_attention_mask\n",
        "        )\n",
        "\n",
        "        return output.loss, output.logits\n",
        "\n",
        "    def training_step(self, batch, batch_size):\n",
        "        input_ids = batch['text_input_ids']\n",
        "        attention_mask = batch['text_attention_mask']\n",
        "        labels = batch['labels']\n",
        "        labels_attention_mask = batch['labels_attention_mask']\n",
        "\n",
        "        loss, output = self(\n",
        "            input_ids = input_ids,\n",
        "            attention_mask = attention_mask,\n",
        "            decoder_attention_mask = labels_attention_mask,\n",
        "            labels = labels\n",
        "        )\n",
        "\n",
        "        self.log(\"train_loss\", loss, prog_bar=True, logger=True)\n",
        "        return loss\n",
        "\n",
        "    def validation_step(self, batch, batch_size):\n",
        "        input_ids = batch['text_input_ids']\n",
        "        attention_mask = batch['text_attention_mask']\n",
        "        labels = batch['labels']\n",
        "        labels_attention_mask = batch['labels_attention_mask']\n",
        "\n",
        "        loss, output = self(\n",
        "            input_ids = input_ids,\n",
        "            attention_mask = attention_mask,\n",
        "            decoder_attention_mask = labels_attention_mask,\n",
        "            labels = labels\n",
        "        )\n",
        "\n",
        "        self.log(\"val_loss\", loss, prog_bar=True, logger=True)\n",
        "        return loss\n",
        "\n",
        "    def test_step(self, batch, batch_size):\n",
        "        input_ids = batch['text_input_ids']\n",
        "        attention_mask = batch['text_attention_mask']\n",
        "        labels = batch['labels']\n",
        "        labels_attention_mask = batch['labels_attention_mask']\n",
        "\n",
        "        loss, output = self(\n",
        "            input_ids = input_ids,\n",
        "            attention_mask = attention_mask,\n",
        "            decoder_attention_mask = labels_attention_mask,\n",
        "            labels = labels\n",
        "        )\n",
        "\n",
        "        self.log(\"test_loss\", loss, prog_bar=True, logger=True)\n",
        "        return loss\n",
        "\n",
        "    def configure_optimizers(self):\n",
        "        return AdamW(self.parameters(), lr=0.0001)"
      ],
      "metadata": {
        "execution": {
          "iopub.status.busy": "2024-02-03T09:39:23.499567Z",
          "iopub.execute_input": "2024-02-03T09:39:23.499915Z",
          "iopub.status.idle": "2024-02-03T09:39:23.513907Z",
          "shell.execute_reply.started": "2024-02-03T09:39:23.499884Z",
          "shell.execute_reply": "2024-02-03T09:39:23.513166Z"
        },
        "trusted": true,
        "id": "4PNvlco7YRQI"
      },
      "execution_count": null,
      "outputs": []
    },
    {
      "cell_type": "code",
      "source": [
        "model = NewsSummaryModel()\n",
        "\n"
      ],
      "metadata": {
        "execution": {
          "iopub.status.busy": "2024-02-03T09:39:23.51479Z",
          "iopub.execute_input": "2024-02-03T09:39:23.515061Z",
          "iopub.status.idle": "2024-02-03T09:39:24.556392Z",
          "shell.execute_reply.started": "2024-02-03T09:39:23.515033Z",
          "shell.execute_reply": "2024-02-03T09:39:24.555526Z"
        },
        "trusted": true,
        "id": "aRhvrEkfYRQJ"
      },
      "execution_count": null,
      "outputs": []
    },
    {
      "cell_type": "code",
      "source": [
        "%load_ext tensorboard\n",
        "%tensorboard --logdir ./lightning_logs"
      ],
      "metadata": {
        "execution": {
          "iopub.status.busy": "2024-02-03T09:39:24.557512Z",
          "iopub.execute_input": "2024-02-03T09:39:24.557775Z",
          "iopub.status.idle": "2024-02-03T09:39:29.584062Z",
          "shell.execute_reply.started": "2024-02-03T09:39:24.557751Z",
          "shell.execute_reply": "2024-02-03T09:39:29.583057Z"
        },
        "trusted": true,
        "id": "upNBsRzCYRQJ"
      },
      "execution_count": null,
      "outputs": []
    },
    {
      "cell_type": "code",
      "source": [
        "checkpoint_callback = ModelCheckpoint(\n",
        "    dirpath='checkpoints',\n",
        "    filename='best-checkpoint',\n",
        "    save_top_k=1,\n",
        "    verbose=True,\n",
        "    monitor='val_loss',\n",
        "    mode='min'\n",
        ")\n",
        "\n",
        "logger = TensorBoardLogger(\"lightning_logs\", name='news-summary')\n",
        "\n",
        "trainer = pl.Trainer(\n",
        "    logger = logger,\n",
        "    callbacks = [checkpoint_callback],\n",
        "    max_epochs=N_EPOCHS,\n",
        "    accelerator=\"auto\",\n",
        ")\n",
        "\n",
        "torch.cuda.empty_cache()"
      ],
      "metadata": {
        "execution": {
          "iopub.status.busy": "2024-02-03T09:39:29.585359Z",
          "iopub.execute_input": "2024-02-03T09:39:29.585729Z",
          "iopub.status.idle": "2024-02-03T09:39:30.224277Z",
          "shell.execute_reply.started": "2024-02-03T09:39:29.585685Z",
          "shell.execute_reply": "2024-02-03T09:39:30.223466Z"
        },
        "trusted": true,
        "id": "njIR94r-YRQP"
      },
      "execution_count": null,
      "outputs": []
    },
    {
      "cell_type": "code",
      "source": [
        "trainer.fit(model, data_module)"
      ],
      "metadata": {
        "execution": {
          "iopub.status.busy": "2024-02-03T09:39:30.230652Z",
          "iopub.execute_input": "2024-02-03T09:39:30.230934Z",
          "iopub.status.idle": "2024-02-03T09:48:46.278122Z",
          "shell.execute_reply.started": "2024-02-03T09:39:30.230909Z",
          "shell.execute_reply": "2024-02-03T09:48:46.277076Z"
        },
        "trusted": true,
        "id": "aRVdtanuYRQQ"
      },
      "execution_count": null,
      "outputs": []
    },
    {
      "cell_type": "code",
      "source": [
        "trained_model = NewsSummaryModel.load_from_checkpoint(trainer.checkpoint_callback.best_model_path)\n",
        "\n",
        "trained_model.freeze()\n"
      ],
      "metadata": {
        "execution": {
          "iopub.status.busy": "2024-02-03T09:48:46.279705Z",
          "iopub.execute_input": "2024-02-03T09:48:46.280084Z",
          "iopub.status.idle": "2024-02-03T09:48:50.320271Z",
          "shell.execute_reply.started": "2024-02-03T09:48:46.280046Z",
          "shell.execute_reply": "2024-02-03T09:48:50.319404Z"
        },
        "trusted": true,
        "id": "bqX2tsxlYRQQ"
      },
      "execution_count": null,
      "outputs": []
    },
    {
      "cell_type": "code",
      "source": [
        "import pickle\n",
        "\n",
        "with open('trained_model.pickle', 'wb') as model_file:\n",
        "    pickle.dump(trained_model, model_file)\n",
        "# Load the trained model using pickle\n",
        "with open('trained_model.pickle', 'rb') as model_file:\n",
        "    loaded_model = pickle.load(model_file)\n",
        "\n",
        "\n"
      ],
      "metadata": {
        "execution": {
          "iopub.status.busy": "2024-02-03T09:48:50.321619Z",
          "iopub.execute_input": "2024-02-03T09:48:50.322022Z",
          "iopub.status.idle": "2024-02-03T09:48:56.495902Z",
          "shell.execute_reply.started": "2024-02-03T09:48:50.321972Z",
          "shell.execute_reply": "2024-02-03T09:48:56.49506Z"
        },
        "trusted": true,
        "id": "G0wWwdE3YRQQ"
      },
      "execution_count": null,
      "outputs": []
    },
    {
      "cell_type": "code",
      "source": [
        "def summarizeText(text):\n",
        "    text_encoding = tokenizer(\n",
        "        text,\n",
        "        max_length=512,\n",
        "        padding='max_length',\n",
        "        truncation=True,\n",
        "        reurn_attention_mask=True,\n",
        "        add_special_tokens=True,\n",
        "        return_tensors='pt'\n",
        "    )\n",
        "\n",
        "    generated_ids = trained_model.model.generate(\n",
        "        input_ids = text_encoding['input_ids'],\n",
        "        attention_mask = text_encoding['attention_mask'],\n",
        "        max_length=150,\n",
        "        num_beams=2,\n",
        "        repetition_penalty=2.5,\n",
        "        length_penalty=1.0,\n",
        "        early_stopping=True\n",
        "    )\n",
        "\n",
        "    preds = [\n",
        "        tokenizer.decode(gen_id, skip_special_tokens=True, clean_up_tokenization_spaces=True)\n",
        "        for gen_id in generated_ids\n",
        "    ]\n",
        "\n",
        "    return \"\".join(preds)"
      ],
      "metadata": {
        "execution": {
          "iopub.status.busy": "2024-02-03T09:48:56.497147Z",
          "iopub.execute_input": "2024-02-03T09:48:56.497418Z",
          "iopub.status.idle": "2024-02-03T09:48:56.504263Z",
          "shell.execute_reply.started": "2024-02-03T09:48:56.497394Z",
          "shell.execute_reply": "2024-02-03T09:48:56.503265Z"
        },
        "trusted": true,
        "id": "r7VAlsSUYRQR"
      },
      "execution_count": null,
      "outputs": []
    },
    {
      "cell_type": "code",
      "source": [
        "def summarizeText(text, trained_model, tokenizer):\n",
        "    text_encoding = tokenizer(\n",
        "        text,\n",
        "        max_length=512,\n",
        "        padding='max_length',\n",
        "        truncation=True,\n",
        "        return_attention_mask=True,\n",
        "        add_special_tokens=True,\n",
        "        return_tensors='pt'\n",
        "    )\n",
        "\n",
        "    generated_ids = trained_model.model.generate(\n",
        "        input_ids=text_encoding['input_ids'],\n",
        "        attention_mask=text_encoding['attention_mask'],\n",
        "        max_length=150,\n",
        "        num_beams=2,\n",
        "        repetition_penalty=2.5,\n",
        "        length_penalty=1.0,\n",
        "        early_stopping=True,\n",
        "        decoder_start_token_id=trained_model.model.config.pad_token_id\n",
        "    )\n",
        "\n",
        "    # Decode the generated summary\n",
        "    generated_summary = tokenizer.decode(generated_ids[0], skip_special_tokens=True)\n",
        "\n",
        "    return generated_summary\n"
      ],
      "metadata": {
        "execution": {
          "iopub.status.busy": "2024-02-03T09:48:56.505913Z",
          "iopub.execute_input": "2024-02-03T09:48:56.506304Z",
          "iopub.status.idle": "2024-02-03T09:48:56.518365Z",
          "shell.execute_reply.started": "2024-02-03T09:48:56.50627Z",
          "shell.execute_reply": "2024-02-03T09:48:56.517582Z"
        },
        "trusted": true,
        "id": "T8fc8AONYRQR"
      },
      "execution_count": null,
      "outputs": []
    },
    {
      "cell_type": "code",
      "source": [
        "import torch\n",
        "from transformers import T5ForConditionalGeneration, T5Tokenizer\n",
        "\n",
        "# Assuming you have trained_model and tokenizer initialized\n",
        "device = torch.device(\"cuda\" if torch.cuda.is_available() else \"cpu\")\n",
        "\n",
        "# Function to summarize text\n",
        "def summarize_text(text, model, tokenizer):\n",
        "    inputs = tokenizer(\n",
        "        text,\n",
        "        return_tensors=\"pt\",\n",
        "        max_length=512,\n",
        "        truncation=True\n",
        "    ).to(device)\n",
        "\n",
        "    summary_ids = model.generate(\n",
        "        inputs['input_ids'],\n",
        "        max_length=150,\n",
        "        num_beams=4,\n",
        "        length_penalty=2.0,\n",
        "        early_stopping=True,\n",
        "        no_repeat_ngram_size=2\n",
        "    ).to(device)\n",
        "\n",
        "    summary = tokenizer.decode(summary_ids[0], skip_special_tokens=True)\n",
        "    return summary\n",
        "\n",
        "sample_row = test_df.iloc[0]\n",
        "article_text = sample_row['articles']\n",
        "generated_summary = summarize_text(article_text, trained_model.model, tokenizer)\n",
        "\n",
        "print(\"Original Text:\")\n",
        "print(article_text)\n",
        "\n",
        "print(\"\\nGenerated Summary:\")\n",
        "print(generated_summary)\n"
      ],
      "metadata": {
        "execution": {
          "iopub.status.busy": "2024-02-03T09:48:56.519474Z",
          "iopub.execute_input": "2024-02-03T09:48:56.519736Z",
          "iopub.status.idle": "2024-02-03T09:48:58.961515Z",
          "shell.execute_reply.started": "2024-02-03T09:48:56.519714Z",
          "shell.execute_reply": "2024-02-03T09:48:58.960549Z"
        },
        "trusted": true,
        "id": "NRwUX2EuYRQS"
      },
      "execution_count": null,
      "outputs": []
    }
  ]
}